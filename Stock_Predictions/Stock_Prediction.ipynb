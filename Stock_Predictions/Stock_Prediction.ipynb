{
 "cells": [
  {
   "cell_type": "code",
   "execution_count": 86,
   "id": "3cad1b37",
   "metadata": {},
   "outputs": [],
   "source": [
    "# Author: Joseph Riedy \n",
    "# Email: Riedyjo@bc.edu\n",
    "# Stock Prediction: Takes a date and company ticker as inputs and uses machine learning to make \n",
    "# a price prediction based off the prior 30 days of closing stock prices. \n",
    "# DISCLAIMER: This is by no means meant to be financial advice. It was constructed merely as a person project.\n",
    "\n",
    "import numpy as np\n",
    "import pandas as pd\n",
    "from sklearn.neighbors import KNeighborsRegressor\n",
    "import requests \n",
    "import xlsxwriter\n",
    "#API sandbox token used to request information from IEX Cloud\n",
    "#Data is randomized because this token is only for free use, real data is behind a paywall\n",
    "from secrets import IEX_CLOUD_API_TOKEN"
   ]
  },
  {
   "cell_type": "code",
   "execution_count": 87,
   "id": "dde26e93",
   "metadata": {},
   "outputs": [
    {
     "name": "stdout",
     "output_type": "stream",
     "text": [
      "Please input the year of tomorrow's date in format YYYY:2009\n",
      "Please input the mont of tomorrow's date in format MM:1\n",
      "Please input the day of tomorrow's date in format DD:1\n",
      "Please input a stock ticker: AAPL\n"
     ]
    }
   ],
   "source": [
    "ydate=input(\"Please input the year of tomorrow's date in format YYYY:\")\n",
    "mdate=input(\"Please input the mont of tomorrow's date in format MM:\")\n",
    "ddate=input(\"Please input the day of tomorrow's date in format DD:\")\n",
    "tdate=ydate+mdate+ddate\n",
    "symbol=input(\"Please input a stock ticker: \")\n",
    "my_columns = ['Date', 'Stock Price']\n",
    "final_dataframe = pd.DataFrame(columns = my_columns)\n",
    "#irange='3m'"
   ]
  },
  {
   "cell_type": "code",
   "execution_count": 88,
   "id": "f66ec738",
   "metadata": {},
   "outputs": [],
   "source": [
    "nyear=int(ydate)\n",
    "nmonth=int(mdate)\n",
    "nday=int(ddate)\n",
    "for j in range(30,0,-1):\n",
    "    \n",
    "    #API requests requires date in a specific YYYYMMDD format in order to work\n",
    "    #In order to iterate, I had to come up with some way to automate the calendar math, \n",
    "    #this series of if and else statemetns allows the API reuqests to go across years \n",
    "    if nday-j<1:\n",
    "        if nmonth==1:\n",
    "            nyear=nyear-1\n",
    "            nmonth=12\n",
    "        else: \n",
    "            nmonth=nmonth-1\n",
    "        if nmonth in (1,3,5,7,8,10,12):\n",
    "            nday=31-j+nday\n",
    "        elif nmonth in (4, 6, 9, 11):\n",
    "            nday=30-j+nday\n",
    "        else: \n",
    "            nday=28-j+nday\n",
    "    else:\n",
    "        nday=nday-j\n",
    "    if nday<10:\n",
    "        strnday=\"0\" + str(nday)\n",
    "    else:\n",
    "        strnday=str(nday)\n",
    "    if nmonth<10:\n",
    "        strnmonth=\"0\" + str(nmonth)\n",
    "    else:\n",
    "        strnmonth=str(nmonth)\n",
    "    \n",
    "    strnyear=str(nyear)\n",
    "    strdate=strnyear+strnmonth+strnday\n",
    "    #API URL is derived from IEX API docs found on the website \n",
    "    api_url = f'https://sandbox.iexapis.com/stable/stock/{symbol}/chart/3m/{strdate}/?chartByDay=True&token={IEX_CLOUD_API_TOKEN}'\n",
    "    \n",
    "    #API URL is used to call data for the specific date of this iteration of the loop\n",
    "    data=requests.get(api_url).json()\n",
    "    \n",
    "    #Is added to final_dataframe if stock info exists for specified day\n",
    "    if (data):\n",
    "        final_dataframe=final_dataframe.append(\n",
    "            pd.Series(\n",
    "                [\n",
    "                    strdate,\n",
    "                    data[0]['fClose']\n",
    "                ],\n",
    "                index=my_columns\n",
    "            ),\n",
    "        ignore_index=True\n",
    "        )"
   ]
  },
  {
   "cell_type": "code",
   "execution_count": 90,
   "id": "3a75ede1",
   "metadata": {},
   "outputs": [
    {
     "name": "stdout",
     "output_type": "stream",
     "text": [
      "The predicted price on 1/1/2009 is: $3.12\n"
     ]
    }
   ],
   "source": [
    "#X and Y are arrays containing test data. x must be formatted as an array of arrays for KNeighborsRegressor\n",
    "x=[]\n",
    "y=[]\n",
    "for i in range (0,len(final_dataframe)):\n",
    "    x.append([i])\n",
    "    y.append(int(final_dataframe.iloc[i][1]*100)) #only accepts integers in range thus must be multiplied by 100 in order to preserve cent count\n",
    "    \n",
    "#Forms a knn model out of data given from the mock API\n",
    "#2 neighbors used because small number of variables mapped\n",
    "model=KNeighborsRegressor(n_neighbors=2)\n",
    "model.fit(x,y)\n",
    "#Model is then used to predict the stock price of the user inputted date in USD\n",
    "predictions = (model.predict([[-1]]))/100 \n",
    "print(f'The predicted price on {mdate}/{ddate}/{ydate} is: ${predictions[0]}')"
   ]
  }
 ],
 "metadata": {
  "kernelspec": {
   "display_name": "Python 3",
   "language": "python",
   "name": "python3"
  },
  "language_info": {
   "codemirror_mode": {
    "name": "ipython",
    "version": 3
   },
   "file_extension": ".py",
   "mimetype": "text/x-python",
   "name": "python",
   "nbconvert_exporter": "python",
   "pygments_lexer": "ipython3",
   "version": "3.8.8"
  }
 },
 "nbformat": 4,
 "nbformat_minor": 5
}
